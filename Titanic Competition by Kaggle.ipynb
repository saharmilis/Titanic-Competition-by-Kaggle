{
  "cells": [
    {
      "metadata": {
        "_cell_guid": "5ddcbfe4-b7bd-44cf-b3b1-3424e6942b6c",
        "_uuid": "947f00e885670dfcbfe1c6c3d16e4a7da98e823f"
      },
      "cell_type": "markdown",
      "source": "# Titanic Competition by Kaggle\npredict who's gonna survived :) "
    },
    {
      "metadata": {
        "_cell_guid": "b1076dfc-b9ad-4769-8c92-a6c4dae69d19",
        "_uuid": "8f2839f25d086af736a60e9eeb907d3b93b6e0e5",
        "collapsed": true,
        "trusted": true
      },
      "cell_type": "code",
      "source": "import numpy as np \nimport pandas as pd\n\nimport os\n# print(os.listdir(\"../input\"))",
      "execution_count": 4,
      "outputs": []
    },
    {
      "metadata": {
        "_cell_guid": "46fdd732-000b-4eab-9d0c-28b4edf89360",
        "_uuid": "0dc1c2e56aad827c5e9f1534efc1f0b302ccfb98"
      },
      "cell_type": "markdown",
      "source": "## Load Data "
    },
    {
      "metadata": {
        "_cell_guid": "0a5c4f3f-ae7d-4b00-a7a9-92c9eff3d9b0",
        "_uuid": "82d1bfdc87e6ffda78c1e061c7bfc88298bfe3cb",
        "collapsed": true,
        "trusted": true
      },
      "cell_type": "code",
      "source": "train_original = pd.read_csv('../input/train.csv')\ntest_original = pd.read_csv('../input/test.csv')",
      "execution_count": 5,
      "outputs": []
    },
    {
      "metadata": {
        "_cell_guid": "24e91e74-f920-40bf-87d8-a0f44a0b5163",
        "_uuid": "d9261363580d33a88a7e4de941665bc2cb488747"
      },
      "cell_type": "markdown",
      "source": "#### look at the Data"
    },
    {
      "metadata": {
        "_cell_guid": "41d13cfe-365c-498f-9c0a-1534cb99d68b",
        "_uuid": "1a750ff27b911c3369e7976797c829bbe7a1a8c1",
        "trusted": true
      },
      "cell_type": "code",
      "source": "train_original.head()",
      "execution_count": 6,
      "outputs": [
        {
          "data": {
            "text/html": "<div>\n<style scoped>\n    .dataframe tbody tr th:only-of-type {\n        vertical-align: middle;\n    }\n\n    .dataframe tbody tr th {\n        vertical-align: top;\n    }\n\n    .dataframe thead th {\n        text-align: right;\n    }\n</style>\n<table border=\"1\" class=\"dataframe\">\n  <thead>\n    <tr style=\"text-align: right;\">\n      <th></th>\n      <th>PassengerId</th>\n      <th>Survived</th>\n      <th>Pclass</th>\n      <th>Name</th>\n      <th>Sex</th>\n      <th>Age</th>\n      <th>SibSp</th>\n      <th>Parch</th>\n      <th>Ticket</th>\n      <th>Fare</th>\n      <th>Cabin</th>\n      <th>Embarked</th>\n    </tr>\n  </thead>\n  <tbody>\n    <tr>\n      <th>0</th>\n      <td>1</td>\n      <td>0</td>\n      <td>3</td>\n      <td>Braund, Mr. Owen Harris</td>\n      <td>male</td>\n      <td>22.0</td>\n      <td>1</td>\n      <td>0</td>\n      <td>A/5 21171</td>\n      <td>7.2500</td>\n      <td>NaN</td>\n      <td>S</td>\n    </tr>\n    <tr>\n      <th>1</th>\n      <td>2</td>\n      <td>1</td>\n      <td>1</td>\n      <td>Cumings, Mrs. John Bradley (Florence Briggs Th...</td>\n      <td>female</td>\n      <td>38.0</td>\n      <td>1</td>\n      <td>0</td>\n      <td>PC 17599</td>\n      <td>71.2833</td>\n      <td>C85</td>\n      <td>C</td>\n    </tr>\n    <tr>\n      <th>2</th>\n      <td>3</td>\n      <td>1</td>\n      <td>3</td>\n      <td>Heikkinen, Miss. Laina</td>\n      <td>female</td>\n      <td>26.0</td>\n      <td>0</td>\n      <td>0</td>\n      <td>STON/O2. 3101282</td>\n      <td>7.9250</td>\n      <td>NaN</td>\n      <td>S</td>\n    </tr>\n    <tr>\n      <th>3</th>\n      <td>4</td>\n      <td>1</td>\n      <td>1</td>\n      <td>Futrelle, Mrs. Jacques Heath (Lily May Peel)</td>\n      <td>female</td>\n      <td>35.0</td>\n      <td>1</td>\n      <td>0</td>\n      <td>113803</td>\n      <td>53.1000</td>\n      <td>C123</td>\n      <td>S</td>\n    </tr>\n    <tr>\n      <th>4</th>\n      <td>5</td>\n      <td>0</td>\n      <td>3</td>\n      <td>Allen, Mr. William Henry</td>\n      <td>male</td>\n      <td>35.0</td>\n      <td>0</td>\n      <td>0</td>\n      <td>373450</td>\n      <td>8.0500</td>\n      <td>NaN</td>\n      <td>S</td>\n    </tr>\n  </tbody>\n</table>\n</div>",
            "text/plain": "   PassengerId  Survived  Pclass  \\\n0            1         0       3   \n1            2         1       1   \n2            3         1       3   \n3            4         1       1   \n4            5         0       3   \n\n                                                Name     Sex   Age  SibSp  \\\n0                            Braund, Mr. Owen Harris    male  22.0      1   \n1  Cumings, Mrs. John Bradley (Florence Briggs Th...  female  38.0      1   \n2                             Heikkinen, Miss. Laina  female  26.0      0   \n3       Futrelle, Mrs. Jacques Heath (Lily May Peel)  female  35.0      1   \n4                           Allen, Mr. William Henry    male  35.0      0   \n\n   Parch            Ticket     Fare Cabin Embarked  \n0      0         A/5 21171   7.2500   NaN        S  \n1      0          PC 17599  71.2833   C85        C  \n2      0  STON/O2. 3101282   7.9250   NaN        S  \n3      0            113803  53.1000  C123        S  \n4      0            373450   8.0500   NaN        S  "
          },
          "execution_count": 6,
          "metadata": {},
          "output_type": "execute_result"
        }
      ]
    },
    {
      "metadata": {
        "_cell_guid": "4ade6c64-12e9-4d34-a0b3-a0924c605d20",
        "_uuid": "61a9195959cde80af9c43fe339696d05566b9cda",
        "trusted": true
      },
      "cell_type": "code",
      "source": "test_original.head()",
      "execution_count": 7,
      "outputs": [
        {
          "data": {
            "text/html": "<div>\n<style scoped>\n    .dataframe tbody tr th:only-of-type {\n        vertical-align: middle;\n    }\n\n    .dataframe tbody tr th {\n        vertical-align: top;\n    }\n\n    .dataframe thead th {\n        text-align: right;\n    }\n</style>\n<table border=\"1\" class=\"dataframe\">\n  <thead>\n    <tr style=\"text-align: right;\">\n      <th></th>\n      <th>PassengerId</th>\n      <th>Pclass</th>\n      <th>Name</th>\n      <th>Sex</th>\n      <th>Age</th>\n      <th>SibSp</th>\n      <th>Parch</th>\n      <th>Ticket</th>\n      <th>Fare</th>\n      <th>Cabin</th>\n      <th>Embarked</th>\n    </tr>\n  </thead>\n  <tbody>\n    <tr>\n      <th>0</th>\n      <td>892</td>\n      <td>3</td>\n      <td>Kelly, Mr. James</td>\n      <td>male</td>\n      <td>34.5</td>\n      <td>0</td>\n      <td>0</td>\n      <td>330911</td>\n      <td>7.8292</td>\n      <td>NaN</td>\n      <td>Q</td>\n    </tr>\n    <tr>\n      <th>1</th>\n      <td>893</td>\n      <td>3</td>\n      <td>Wilkes, Mrs. James (Ellen Needs)</td>\n      <td>female</td>\n      <td>47.0</td>\n      <td>1</td>\n      <td>0</td>\n      <td>363272</td>\n      <td>7.0000</td>\n      <td>NaN</td>\n      <td>S</td>\n    </tr>\n    <tr>\n      <th>2</th>\n      <td>894</td>\n      <td>2</td>\n      <td>Myles, Mr. Thomas Francis</td>\n      <td>male</td>\n      <td>62.0</td>\n      <td>0</td>\n      <td>0</td>\n      <td>240276</td>\n      <td>9.6875</td>\n      <td>NaN</td>\n      <td>Q</td>\n    </tr>\n    <tr>\n      <th>3</th>\n      <td>895</td>\n      <td>3</td>\n      <td>Wirz, Mr. Albert</td>\n      <td>male</td>\n      <td>27.0</td>\n      <td>0</td>\n      <td>0</td>\n      <td>315154</td>\n      <td>8.6625</td>\n      <td>NaN</td>\n      <td>S</td>\n    </tr>\n    <tr>\n      <th>4</th>\n      <td>896</td>\n      <td>3</td>\n      <td>Hirvonen, Mrs. Alexander (Helga E Lindqvist)</td>\n      <td>female</td>\n      <td>22.0</td>\n      <td>1</td>\n      <td>1</td>\n      <td>3101298</td>\n      <td>12.2875</td>\n      <td>NaN</td>\n      <td>S</td>\n    </tr>\n  </tbody>\n</table>\n</div>",
            "text/plain": "   PassengerId  Pclass                                          Name     Sex  \\\n0          892       3                              Kelly, Mr. James    male   \n1          893       3              Wilkes, Mrs. James (Ellen Needs)  female   \n2          894       2                     Myles, Mr. Thomas Francis    male   \n3          895       3                              Wirz, Mr. Albert    male   \n4          896       3  Hirvonen, Mrs. Alexander (Helga E Lindqvist)  female   \n\n    Age  SibSp  Parch   Ticket     Fare Cabin Embarked  \n0  34.5      0      0   330911   7.8292   NaN        Q  \n1  47.0      1      0   363272   7.0000   NaN        S  \n2  62.0      0      0   240276   9.6875   NaN        Q  \n3  27.0      0      0   315154   8.6625   NaN        S  \n4  22.0      1      1  3101298  12.2875   NaN        S  "
          },
          "execution_count": 7,
          "metadata": {},
          "output_type": "execute_result"
        }
      ]
    },
    {
      "metadata": {
        "_cell_guid": "e648acae-9e9d-4065-b7a7-bcd796fe7bc6",
        "_uuid": "34e54c9f593406fcfeaed87e021f9172eced3552"
      },
      "cell_type": "markdown",
      "source": "### Work and play with a Copy of the Data\nI'll work on a copy of the original data so nothing will get lost.  \nalso, I'll do the pre-processing on the training and the testing data."
    },
    {
      "metadata": {
        "_cell_guid": "aa938044-c57f-4b34-80b1-6dc32dde3918",
        "_uuid": "b507b7e628549d5207a46b82009f2611e9c22623",
        "trusted": true
      },
      "cell_type": "code",
      "source": "\ndatasets = [pd.DataFrame(train_original,copy=True),pd.DataFrame(test_original,copy=True)]\n\nfor df in datasets :\n    print(df.info())\n    print()",
      "execution_count": 8,
      "outputs": [
        {
          "name": "stdout",
          "output_type": "stream",
          "text": "<class 'pandas.core.frame.DataFrame'>\nRangeIndex: 891 entries, 0 to 890\nData columns (total 12 columns):\nPassengerId    891 non-null int64\nSurvived       891 non-null int64\nPclass         891 non-null int64\nName           891 non-null object\nSex            891 non-null object\nAge            714 non-null float64\nSibSp          891 non-null int64\nParch          891 non-null int64\nTicket         891 non-null object\nFare           891 non-null float64\nCabin          204 non-null object\nEmbarked       889 non-null object\ndtypes: float64(2), int64(5), object(5)\nmemory usage: 83.6+ KB\nNone\n\n<class 'pandas.core.frame.DataFrame'>\nRangeIndex: 418 entries, 0 to 417\nData columns (total 11 columns):\nPassengerId    418 non-null int64\nPclass         418 non-null int64\nName           418 non-null object\nSex            418 non-null object\nAge            332 non-null float64\nSibSp          418 non-null int64\nParch          418 non-null int64\nTicket         418 non-null object\nFare           417 non-null float64\nCabin          91 non-null object\nEmbarked       418 non-null object\ndtypes: float64(2), int64(4), object(5)\nmemory usage: 36.0+ KB\nNone\n\n"
        }
      ]
    },
    {
      "metadata": {
        "_cell_guid": "9d786968-1fc5-4328-9ef3-80ca74c42d92",
        "_uuid": "663fbc311881f05730e2542837800cb91a6bebf8"
      },
      "cell_type": "markdown",
      "source": "# Pclass\nA proxy for socio-economic status  \n1st = Upper\n2nd = Middle\n3rd = Lower\n\nno missing values | no categorical values\n\nso lets check if it has impact on the result"
    },
    {
      "metadata": {
        "_cell_guid": "23d500da-b8cc-49c4-bd85-14109a85283c",
        "_uuid": "520ff94a174e4e73e2ea58c8bf92e4861844ac71",
        "trusted": true
      },
      "cell_type": "code",
      "source": "# Impact\ndf = datasets[0]\nprint(df[['Survived','Pclass']].groupby(['Pclass']).mean())",
      "execution_count": 9,
      "outputs": [
        {
          "name": "stdout",
          "output_type": "stream",
          "text": "        Survived\nPclass          \n1       0.629630\n2       0.472826\n3       0.242363\n"
        }
      ]
    },
    {
      "metadata": {
        "_cell_guid": "560504c6-c21c-465a-bd6e-8f5ef9ab991c",
        "_uuid": "6879627239eaec37102963a1d79770cb7075173a"
      },
      "cell_type": "markdown",
      "source": "good. keeping it!\n\n# Family Size\nSibSp - number of siblings/spouse  \nParch - number of parents/children\n\ni'll sum it up to get the hole family size"
    },
    {
      "metadata": {
        "_cell_guid": "cf9a145a-c963-45dc-b10f-eff1803d95ec",
        "_uuid": "f1a455325195357b4a956c7bb62b0bc84f041e3d",
        "trusted": true
      },
      "cell_type": "code",
      "source": "# CREATE\nfor df in datasets :\n    df['FamilySize'] = df.SibSp+df.Parch+1\n    df.FamilySize = df.FamilySize.astype('int64')\n\n# IMPACT\ndf = datasets[0]\nprint(df[['Survived','FamilySize']].groupby(['FamilySize']).mean())\n",
      "execution_count": 10,
      "outputs": [
        {
          "name": "stdout",
          "output_type": "stream",
          "text": "            Survived\nFamilySize          \n1           0.303538\n2           0.552795\n3           0.578431\n4           0.724138\n5           0.200000\n6           0.136364\n7           0.333333\n8           0.000000\n11          0.000000\n"
        }
      ]
    },
    {
      "metadata": {
        "_cell_guid": "a56e5ab4-9c8f-4321-bc6c-ddd910993fde",
        "_uuid": "49c3b4f7b39d0d6fc9ef7f621c6bca2cc11dcb99"
      },
      "cell_type": "markdown",
      "source": "good. keeping it!\n\n### Alone\nacording to family size lets check a new feature - Alone or not  \nif it has an impact - i'll keep it"
    },
    {
      "metadata": {
        "_cell_guid": "84a6de62-5792-4870-9ba5-5778297f23c5",
        "_uuid": "a6090408b02183e955a2ff0160c0628f30cfbb6f",
        "trusted": true
      },
      "cell_type": "code",
      "source": "# CREATE\nfor df in datasets :\n    df['Alone'] = 0\n    df.loc[df.FamilySize==1,'Alone'] = 1\n    df.Alone = df.Alone.astype('int64')\n\n# IMPACT\ndf = datasets[0]\nprint(df[['Survived','Alone']].groupby(['Alone']).mean())",
      "execution_count": 11,
      "outputs": [
        {
          "name": "stdout",
          "output_type": "stream",
          "text": "       Survived\nAlone          \n0      0.505650\n1      0.303538\n"
        }
      ]
    },
    {
      "metadata": {
        "_cell_guid": "13b53397-884e-491c-85be-3dec80e34b66",
        "_uuid": "9e5a4abd76e49f82d359e59cd4f926b47bc648d4"
      },
      "cell_type": "markdown",
      "source": "good. keeping it!\n\n# Sex\nfrom catagory to binary  \n~ male to 1  \n~ female to 0"
    },
    {
      "metadata": {
        "_cell_guid": "10d79fea-918a-474b-aa8f-01debc0d0b8d",
        "_uuid": "b6485f8093835d6e7a48fd0680a6882ffc674488",
        "trusted": true
      },
      "cell_type": "code",
      "source": "# CREATE\nfor df in datasets :\n    df['IsMale'] = df.Sex.map(lambda s : 1 if s=='male' else 0)\n    df.IsMale = df.IsMale.astype('int64')\n\n# IMPACT\ndf = datasets[0]\nprint(df[['Survived','IsMale']].groupby(['IsMale']).mean())",
      "execution_count": 12,
      "outputs": [
        {
          "name": "stdout",
          "output_type": "stream",
          "text": "        Survived\nIsMale          \n0       0.742038\n1       0.188908\n"
        }
      ]
    },
    {
      "metadata": {
        "_cell_guid": "8cc9a155-4f65-4117-9c11-6db14fb6aacc",
        "_uuid": "94b6d50e98a205944532f2352eca483b35a9396c"
      },
      "cell_type": "markdown",
      "source": "good. keeping it!\n\n# Embark\nembarked Port of Embarkation  \nC = Cherbourg | Q = Queenstown | S = Southampton\n\n~ fill out missing value  \n~ numberize it  \n~ check impact  "
    },
    {
      "metadata": {
        "_cell_guid": "fa90c468-a032-4d8c-bf9f-26278d56bc3a",
        "_uuid": "62450bbc7a6e9e710200267fa156a1c9ab077fee",
        "trusted": true
      },
      "cell_type": "code",
      "source": "for df in datasets :\n    # Fill Missing Values\n    df.Embarked.fillna('S',inplace=True)\n    \n    # CREATE\n    df['EmbarkedNumber'] = 0;\n\n    # numberize it \n    dic = {'S':0,'C':1,'Q':2}\n    df.EmbarkedNumber = df.Embarked.replace(dic,inplace=False)\n    df.EmbarkedNumber = df.EmbarkedNumber.astype('int64')\n\n# IMPACT\ndf = datasets[0]\nprint(df[['Survived','EmbarkedNumber']].groupby(['EmbarkedNumber']).mean())",
      "execution_count": 13,
      "outputs": [
        {
          "name": "stdout",
          "output_type": "stream",
          "text": "                Survived\nEmbarkedNumber          \n0               0.339009\n1               0.553571\n2               0.389610\n"
        }
      ]
    },
    {
      "metadata": {
        "_cell_guid": "acddae61-7fec-4e3b-9f60-57e8b7b04f32",
        "_uuid": "719e19826911f70a7a1685d3a29b711215302025"
      },
      "cell_type": "markdown",
      "source": "good. keeping it!\n\n# Fare\nprice of the ticket\n\n~ missing values    \n~ devide for ranges  \n~ check for impact  \n"
    },
    {
      "metadata": {
        "_cell_guid": "e5b3ecec-a6f5-4276-9eec-01a3713eb60c",
        "_uuid": "1f4943e24e64a268cd27d1f94085c97dfc597c60",
        "trusted": true
      },
      "cell_type": "code",
      "source": "# TRAIN\ndf = datasets[0]\n\n# Missing Values - just in case\nfare_median = df.Fare.median()\ndf.Fare.fillna(fare_median,inplace=True) \n\n# devide for Fare Range\ndf['FareRange'],bins = pd.qcut(df.Fare,4,labels=[0,1,2,3],retbins=True)\ndf.FareRange = df.FareRange.astype('int64')\n# else :\n#     df['FareRange'] = pd.cut(df.Fare,labels=[0,1,2,3],bins=bins)\n# print(df['FareRange'].value_counts())\n\n# IMPACT\nprint(df[['Survived','FareRange']].groupby(['FareRange']).mean())\n###################\n\n# TEST\ndf = datasets[1]\n\n# Missing Values - just in case\ndf.Fare.fillna(fare_median,inplace=True) \n\n# devide for Fare Range\ndf['FareRange'] = pd.cut(df.Fare,labels=[0,1,2,3],bins=bins)\ndf.FareRange = df.FareRange.astype('int64')",
      "execution_count": 14,
      "outputs": [
        {
          "name": "stdout",
          "output_type": "stream",
          "text": "           Survived\nFareRange          \n0          0.197309\n1          0.303571\n2          0.454955\n3          0.581081\n"
        }
      ]
    },
    {
      "metadata": {
        "_cell_guid": "de14930d-799f-48a1-8820-f432385f9aca",
        "_uuid": "6f3784d5c6786b169d7360a8630d87812ac23ed6"
      },
      "cell_type": "markdown",
      "source": "# Age\nthe age of the person\n\n~ missing values    \n~ devide for ranges  \n~ check for impact  "
    },
    {
      "metadata": {
        "_cell_guid": "8c2515c3-e464-46e0-ac22-471668e1b43e",
        "_uuid": "ecaba0cd18f336a9f44b31f9f3d232014b4d69ca",
        "trusted": true
      },
      "cell_type": "code",
      "source": "# TRAIN\ndf = datasets[0]\n\n# Missing Values\nage_median = int(df.Age.median())\nage_std = int(df.Age.std())\nr = lambda : np.random.randint(age_median - age_std,age_median + age_std)\ndf.Age.fillna(r(), inplace=True)\ndf.Age = df.Age.astype('int64')\n\n# devide for Fare Range\ndf['AgeRange'],bins = pd.qcut(df.Age,5,labels=[0,1,2,3,4],retbins=True)\ndf.AgeRange = df.AgeRange.astype('int64')\n\n# IMPACT\nprint(df[['Survived','AgeRange']].groupby(['AgeRange']).agg(['mean','sum']))\n#########\n\n# TEST\ndf = datasets[1]\n\n# Missing Values\ndf.Age.fillna(r(), inplace=True)\ndf.Age = df.Age.astype('int64')\n\n# devide for Fare Range\ndf['AgeRange'] = pd.cut(df.Age,labels=[0,1,2,3,4],bins=bins)\ndf.AgeRange = df.AgeRange.astype('int64')",
      "execution_count": 15,
      "outputs": [
        {
          "name": "stdout",
          "output_type": "stream",
          "text": "          Survived    \n              mean sum\nAgeRange              \n0         0.455556  82\n1         0.358696  66\n2         0.304569  60\n3         0.444444  68\n4         0.372881  66\n"
        }
      ]
    },
    {
      "metadata": {
        "_cell_guid": "1fc4f235-39e4-49ad-83a9-b3fac72f2302",
        "_uuid": "7a1797e2b472a52dcc94b38b8a4ddec04d6a47a3"
      },
      "cell_type": "markdown",
      "source": "# Name to Title\nextract the Title from the name"
    },
    {
      "metadata": {
        "_cell_guid": "35e53564-f9e8-4efd-887f-e9101a2b6f60",
        "_uuid": "48983fa94cc2ab41334c122dd8a63f77e09e3991",
        "trusted": true
      },
      "cell_type": "code",
      "source": "\n# TRAIN\ndf = datasets[0]\n\n# CREATE\ndef get_title(name):\n    import re\n    title_search = re.search(' ([A-Za-z]+)\\.', name)\n    if title_search:\n        return title_search.group(1)\n    return \"\"\n\ndf['Title'] = df.Name.map(lambda n : get_title(n))\n\n# IMPACT\n# print(df[['Title','Survived']].groupby(['Title']).agg(['mean','sum']))\n\n# FROM CATAGORY TO NUMBERS\ntitles = df[['Title','Survived']].groupby(['Title']).agg(['mean','sum']).reset_index()  \ntitlesRare = titles.Title[titles.Survived['sum']<titles.Survived['sum'].mean()].tolist()\ntitlesNotRare = titles.Title[titles.Survived['sum']>=titles.Survived['sum'].mean()].tolist()\ndi = {'Master':1, 'Miss':2, 'Mr':3, 'Mrs':4}\ndf['TitleNumber'] = df['Title'].replace(to_replace=titlesRare, value=0).replace(di)\ndf.TitleNumber = df.TitleNumber.astype('int64')\n\n# IMPACT\ndf = datasets[0]\nprint(df[['TitleNumber','Survived']].groupby(['TitleNumber']).agg(['mean','sum']))\n#################\n\ndf = datasets[1]\ndf['Title'] = df.Name.map(lambda n : get_title(n))\ndf['TitleNumber'] = df['Title'].replace(to_replace=titlesRare, value=0).replace(di).replace('Dona',0)\ndf.TitleNumber = df.TitleNumber.astype('int64')\n\n\n",
      "execution_count": 16,
      "outputs": [
        {
          "name": "stdout",
          "output_type": "stream",
          "text": "             Survived     \n                 mean  sum\nTitleNumber               \n0            0.444444   12\n1            0.575000   23\n2            0.697802  127\n3            0.156673   81\n4            0.792000   99\n"
        }
      ]
    },
    {
      "metadata": {
        "_cell_guid": "8faa6b2b-9a17-4762-933f-41186c757eb7",
        "_uuid": "08b221a10727400f44f5f8123b4a4fa974d7504e",
        "trusted": true
      },
      "cell_type": "code",
      "source": "for df in datasets:\n    print(df.head())",
      "execution_count": 17,
      "outputs": [
        {
          "name": "stdout",
          "output_type": "stream",
          "text": "   PassengerId  Survived  Pclass  \\\n0            1         0       3   \n1            2         1       1   \n2            3         1       3   \n3            4         1       1   \n4            5         0       3   \n\n                                                Name     Sex  Age  SibSp  \\\n0                            Braund, Mr. Owen Harris    male   22      1   \n1  Cumings, Mrs. John Bradley (Florence Briggs Th...  female   38      1   \n2                             Heikkinen, Miss. Laina  female   26      0   \n3       Futrelle, Mrs. Jacques Heath (Lily May Peel)  female   35      1   \n4                           Allen, Mr. William Henry    male   35      0   \n\n   Parch            Ticket     Fare Cabin Embarked  FamilySize  Alone  IsMale  \\\n0      0         A/5 21171   7.2500   NaN        S           2      0       1   \n1      0          PC 17599  71.2833   C85        C           2      0       0   \n2      0  STON/O2. 3101282   7.9250   NaN        S           1      1       0   \n3      0            113803  53.1000  C123        S           2      0       0   \n4      0            373450   8.0500   NaN        S           1      1       1   \n\n   EmbarkedNumber  FareRange  AgeRange Title  TitleNumber  \n0               0          0         1    Mr            3  \n1               1          3         3   Mrs            4  \n2               0          1         1  Miss            2  \n3               0          3         3   Mrs            4  \n4               0          1         3    Mr            3  \n   PassengerId  Pclass                                          Name     Sex  \\\n0          892       3                              Kelly, Mr. James    male   \n1          893       3              Wilkes, Mrs. James (Ellen Needs)  female   \n2          894       2                     Myles, Mr. Thomas Francis    male   \n3          895       3                              Wirz, Mr. Albert    male   \n4          896       3  Hirvonen, Mrs. Alexander (Helga E Lindqvist)  female   \n\n   Age  SibSp  Parch   Ticket     Fare Cabin Embarked  FamilySize  Alone  \\\n0   34      0      0   330911   7.8292   NaN        Q           1      1   \n1   47      1      0   363272   7.0000   NaN        S           2      0   \n2   62      0      0   240276   9.6875   NaN        Q           1      1   \n3   27      0      0   315154   8.6625   NaN        S           1      1   \n4   22      1      1  3101298  12.2875   NaN        S           3      0   \n\n   IsMale  EmbarkedNumber  FareRange  AgeRange Title  TitleNumber  \n0       1               2          0         3    Mr            3  \n1       0               0          0         4   Mrs            4  \n2       1               2          1         4    Mr            3  \n3       1               0          1         1    Mr            3  \n4       0               0          1         1   Mrs            4  \n"
        }
      ]
    },
    {
      "metadata": {
        "_cell_guid": "71b8dd2e-047a-4383-89b2-7282ff49e695",
        "_uuid": "3d881a5a7a802eca7d76ae528628c2f40a8601d4"
      },
      "cell_type": "markdown",
      "source": "# Clean Data\n\n~ drop cols  \n~ drop catagory\n"
    },
    {
      "metadata": {
        "_cell_guid": "2ca77a2e-2254-47d1-9c5d-bbefa4152746",
        "_uuid": "f6f93b73b94453a7cdf210fe51e90281c7d5466c",
        "trusted": true
      },
      "cell_type": "code",
      "source": "datasets_clean = []\n\nfor df in datasets:\n    # Drop SibSp & Parch cuz FamilySize & Alone\n    # Drop Sex cuz IsMale\n    # Drop Embarked cuz EmbarkedNumber\n    # Drop Fare cuz FareRange\n    # Drop Age cuz AgeRange\n    # Drop Name & Title cuz TitleNumber\n    cols_to_drop = ['SibSp','Parch','Sex','Fare','Embarked','Fare','Age','Name','Title']\n\n    # Drop Column i did not have the power to extract valuable features\n    cols_to_drop.append('Ticket')\n    cols_to_drop.append('Cabin')\n\n    datasets_clean.append(df.drop(columns=cols_to_drop,inplace=False,errors='ignore'))\n\nfor df in datasets_clean:\n    print(df.info())\n    print()\n",
      "execution_count": 18,
      "outputs": [
        {
          "name": "stdout",
          "output_type": "stream",
          "text": "<class 'pandas.core.frame.DataFrame'>\nRangeIndex: 891 entries, 0 to 890\nData columns (total 10 columns):\nPassengerId       891 non-null int64\nSurvived          891 non-null int64\nPclass            891 non-null int64\nFamilySize        891 non-null int64\nAlone             891 non-null int64\nIsMale            891 non-null int64\nEmbarkedNumber    891 non-null int64\nFareRange         891 non-null int64\nAgeRange          891 non-null int64\nTitleNumber       891 non-null int64\ndtypes: int64(10)\nmemory usage: 69.7 KB\nNone\n\n<class 'pandas.core.frame.DataFrame'>\nRangeIndex: 418 entries, 0 to 417\nData columns (total 9 columns):\nPassengerId       418 non-null int64\nPclass            418 non-null int64\nFamilySize        418 non-null int64\nAlone             418 non-null int64\nIsMale            418 non-null int64\nEmbarkedNumber    418 non-null int64\nFareRange         418 non-null int64\nAgeRange          418 non-null int64\nTitleNumber       418 non-null int64\ndtypes: int64(9)\nmemory usage: 29.5 KB\nNone\n\n"
        }
      ]
    },
    {
      "metadata": {
        "_cell_guid": "a33b4b28-82aa-47bc-aa2b-5956b5733ba9",
        "_uuid": "471b138dec15d9f0e8d264001e5b09f842e462ca"
      },
      "cell_type": "markdown",
      "source": "# Training-Fitting-Predict"
    },
    {
      "metadata": {
        "_cell_guid": "4385c482-e137-4a67-9ab5-0ed66bd0539a",
        "_uuid": "11acf19fff67d66c163ec96266da2295ae68a607",
        "trusted": true
      },
      "cell_type": "code",
      "source": "from sklearn.model_selection import train_test_split\nfrom sklearn.metrics import classification_report\n\nfrom sklearn.ensemble import GradientBoostingClassifier\n# checked RandomForestClassifier, AdaBoostClassifier\n# checked LogisticRegressionCV\n# checked SVC\n\ndf_clean = datasets_clean[0]\n\nX_original = df_clean.loc[:, df_clean.columns != 'Survived']\ny_original = df_clean.Survived\n\nX_train, X_test, y_train, y_test = train_test_split(X_original,y_original,train_size=0.9,test_size=0.1,random_state=0)\n\nmodel = GradientBoostingClassifier()\nmodel.fit(X_train,y_train)\ny_pre = model.predict(X_test)\ntarget_names = ['0-not Survived', '1-Survived']\nprint(classification_report(y_test, y_pre, target_names=target_names))",
      "execution_count": 19,
      "outputs": [
        {
          "name": "stdout",
          "output_type": "stream",
          "text": "                precision    recall  f1-score   support\n\n0-not Survived       0.82      0.88      0.85        51\n    1-Survived       0.83      0.74      0.78        39\n\n   avg / total       0.82      0.82      0.82        90\n\n"
        }
      ]
    },
    {
      "metadata": {
        "trusted": true,
        "_uuid": "7d071f77676ebae517dd8cef408f0e9941e1ec4e"
      },
      "cell_type": "code",
      "source": "df_clean = datasets_clean[1]\n\ny_pre = model.predict(df_clean)\n\ntest_original['Survived'] = y_pre\n\n",
      "execution_count": 23,
      "outputs": [
        {
          "data": {
            "text/html": "<div>\n<style scoped>\n    .dataframe tbody tr th:only-of-type {\n        vertical-align: middle;\n    }\n\n    .dataframe tbody tr th {\n        vertical-align: top;\n    }\n\n    .dataframe thead th {\n        text-align: right;\n    }\n</style>\n<table border=\"1\" class=\"dataframe\">\n  <thead>\n    <tr style=\"text-align: right;\">\n      <th></th>\n      <th>PassengerId</th>\n      <th>Pclass</th>\n      <th>Name</th>\n      <th>Sex</th>\n      <th>Age</th>\n      <th>SibSp</th>\n      <th>Parch</th>\n      <th>Ticket</th>\n      <th>Fare</th>\n      <th>Cabin</th>\n      <th>Embarked</th>\n      <th>Survived</th>\n    </tr>\n  </thead>\n  <tbody>\n    <tr>\n      <th>0</th>\n      <td>892</td>\n      <td>3</td>\n      <td>Kelly, Mr. James</td>\n      <td>male</td>\n      <td>34.5</td>\n      <td>0</td>\n      <td>0</td>\n      <td>330911</td>\n      <td>7.8292</td>\n      <td>NaN</td>\n      <td>Q</td>\n      <td>1</td>\n    </tr>\n    <tr>\n      <th>1</th>\n      <td>893</td>\n      <td>3</td>\n      <td>Wilkes, Mrs. James (Ellen Needs)</td>\n      <td>female</td>\n      <td>47.0</td>\n      <td>1</td>\n      <td>0</td>\n      <td>363272</td>\n      <td>7.0000</td>\n      <td>NaN</td>\n      <td>S</td>\n      <td>0</td>\n    </tr>\n    <tr>\n      <th>2</th>\n      <td>894</td>\n      <td>2</td>\n      <td>Myles, Mr. Thomas Francis</td>\n      <td>male</td>\n      <td>62.0</td>\n      <td>0</td>\n      <td>0</td>\n      <td>240276</td>\n      <td>9.6875</td>\n      <td>NaN</td>\n      <td>Q</td>\n      <td>1</td>\n    </tr>\n    <tr>\n      <th>3</th>\n      <td>895</td>\n      <td>3</td>\n      <td>Wirz, Mr. Albert</td>\n      <td>male</td>\n      <td>27.0</td>\n      <td>0</td>\n      <td>0</td>\n      <td>315154</td>\n      <td>8.6625</td>\n      <td>NaN</td>\n      <td>S</td>\n      <td>0</td>\n    </tr>\n    <tr>\n      <th>4</th>\n      <td>896</td>\n      <td>3</td>\n      <td>Hirvonen, Mrs. Alexander (Helga E Lindqvist)</td>\n      <td>female</td>\n      <td>22.0</td>\n      <td>1</td>\n      <td>1</td>\n      <td>3101298</td>\n      <td>12.2875</td>\n      <td>NaN</td>\n      <td>S</td>\n      <td>0</td>\n    </tr>\n  </tbody>\n</table>\n</div>",
            "text/plain": "   PassengerId  Pclass                                          Name     Sex  \\\n0          892       3                              Kelly, Mr. James    male   \n1          893       3              Wilkes, Mrs. James (Ellen Needs)  female   \n2          894       2                     Myles, Mr. Thomas Francis    male   \n3          895       3                              Wirz, Mr. Albert    male   \n4          896       3  Hirvonen, Mrs. Alexander (Helga E Lindqvist)  female   \n\n    Age  SibSp  Parch   Ticket     Fare Cabin Embarked  Survived  \n0  34.5      0      0   330911   7.8292   NaN        Q         1  \n1  47.0      1      0   363272   7.0000   NaN        S         0  \n2  62.0      0      0   240276   9.6875   NaN        Q         1  \n3  27.0      0      0   315154   8.6625   NaN        S         0  \n4  22.0      1      1  3101298  12.2875   NaN        S         0  "
          },
          "execution_count": 23,
          "metadata": {},
          "output_type": "execute_result"
        }
      ]
    },
    {
      "metadata": {
        "trusted": true,
        "collapsed": true,
        "_uuid": "3ceedf46e08cb51a860743c58ae2301958b46dac"
      },
      "cell_type": "code",
      "source": "# sub = pd.read_csv('../input/gender_submission.csv')\n# sub.head()\n\nmy_submission = pd.DataFrame({'PassengerId': test_original.PassengerId, 'Survived': test_original.Survived})\nmy_submission.to_csv('submission.csv', index=False)",
      "execution_count": 33,
      "outputs": []
    }
  ],
  "metadata": {
    "kernelspec": {
      "display_name": "Python 3",
      "language": "python",
      "name": "python3"
    },
    "language_info": {
      "codemirror_mode": {
        "name": "ipython",
        "version": 3
      },
      "file_extension": ".py",
      "mimetype": "text/x-python",
      "name": "python",
      "nbconvert_exporter": "python",
      "pygments_lexer": "ipython3",
      "version": "3.6.4"
    }
  },
  "nbformat": 4,
  "nbformat_minor": 1
}